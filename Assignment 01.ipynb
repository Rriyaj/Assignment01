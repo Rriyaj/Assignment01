{
 "cells": [
  {
   "cell_type": "code",
   "execution_count": 8,
   "id": "76ca6a1a",
   "metadata": {},
   "outputs": [
    {
     "name": "stdout",
     "output_type": "stream",
     "text": [
      "2\n",
      "number 12\n",
      "number 8\n",
      "maximum 12\n",
      "minimum 8\n"
     ]
    }
   ],
   "source": [
    "#PROBLEM 1\n",
    "list=[]\n",
    "for i in range(int(input())):\n",
    "    number = int(input(\"number \"))\n",
    "    lst.append(number)\n",
    "print(\"maximum\",max(lst))\n",
    "print(\"minimum\",min(lst))"
   ]
  },
  {
   "cell_type": "code",
   "execution_count": 12,
   "id": "c3114a23",
   "metadata": {},
   "outputs": [
    {
     "name": "stdout",
     "output_type": "stream",
     "text": [
      "Enter a String :hello\n",
      "Enter no. of characters to be shifted :2\n",
      "jgnnq\n"
     ]
    }
   ],
   "source": [
    "#PROBLEM 2\n",
    "import string\n",
    "def Character_Shift(wrd,n): #function to accept string and shift it n characters\n",
    "    alphabate=string.ascii_lowercase\n",
    "    ans_word=''\n",
    "    for char in wrd:\n",
    "        indx=alphabate.index(char)\n",
    "        indx=(indx+n)%26\n",
    "        new_word=new_word+(alphabate[indx])\n",
    "    return ans_word\n",
    "\n",
    "word=input(\"Enter a String :\")\n",
    "shft=int(input(\"Enter no. of characters to be shifted :\"))\n",
    "print(Character_Shift(word,shft))"
   ]
  },
  {
   "cell_type": "code",
   "execution_count": 14,
   "id": "c5d8c6cb",
   "metadata": {},
   "outputs": [
    {
     "name": "stdout",
     "output_type": "stream",
     "text": [
      "2\n",
      "3\n",
      "5\n",
      "7\n",
      "11\n",
      "13\n",
      "17\n",
      "19\n",
      "23\n",
      "29\n",
      "31\n",
      "37\n",
      "41\n",
      "43\n",
      "47\n"
     ]
    }
   ],
   "source": [
    "#PROBLEM 3\n",
    "def is_Prime_number(num):\n",
    "    ans=0\n",
    "    for i in range(1,(num+1)):\n",
    "        if(num%i==0):\n",
    "            ans+=1\n",
    "    return (ans==2)\n",
    "\n",
    "for i in range(1,50):\n",
    "    if(is_Prime_number(i)):\n",
    "        print(i)"
   ]
  },
  {
   "cell_type": "code",
   "execution_count": null,
   "id": "79b1495a",
   "metadata": {},
   "outputs": [],
   "source": []
  }
 ],
 "metadata": {
  "kernelspec": {
   "display_name": "Python 3",
   "language": "python",
   "name": "python3"
  },
  "language_info": {
   "codemirror_mode": {
    "name": "ipython",
    "version": 3
   },
   "file_extension": ".py",
   "mimetype": "text/x-python",
   "name": "python",
   "nbconvert_exporter": "python",
   "pygments_lexer": "ipython3",
   "version": "3.8.8"
  }
 },
 "nbformat": 4,
 "nbformat_minor": 5
}
